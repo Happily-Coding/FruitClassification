{
 "cells": [
  {
   "cell_type": "code",
   "execution_count": 70,
   "metadata": {},
   "outputs": [
    {
     "name": "stderr",
     "output_type": "stream",
     "text": [
      "Matplotlib is building the font cache; this may take a moment.\n"
     ]
    }
   ],
   "source": [
    "import json\n",
    "import os\n",
    "import tensorflow as tf\n",
    "import keras\n",
    "from keras import layers\n",
    "import numpy as np\n",
    "from sklearn.metrics import classification_report, confusion_matrix\n",
    "import matplotlib.pyplot as plt"
   ]
  },
  {
   "cell_type": "code",
   "execution_count": 17,
   "metadata": {},
   "outputs": [],
   "source": [
    "with open('./.kaggle/kaggle.json') as credentials_file:\n",
    "    credentials_dict = json.load(credentials_file)\n",
    "    os.environ['KAGGLE_USERNAME'] = credentials_dict['username']\n",
    "    os.environ['KAGGLE_KEY'] = credentials_dict['key']\n",
    "    import kaggle"
   ]
  },
  {
   "cell_type": "code",
   "execution_count": null,
   "metadata": {},
   "outputs": [],
   "source": [
    "dataset_name='moltean/fruits' # https://www.kaggle.com/datasets/moltean/fruits\n",
    "kaggle.api.dataset_download_files(dataset_name, path='./dataset', force=False, quiet=True, unzip=True)\n",
    "#Con variantes de apples y muchisimas frutas diferentes (9gb) https://www.kaggle.com/datasets/chrisfilo/fruit-recognition?select=Apple"
   ]
  },
  {
   "cell_type": "markdown",
   "metadata": {},
   "source": [
    "## Prepare the dataset"
   ]
  },
  {
   "cell_type": "code",
   "execution_count": 92,
   "metadata": {},
   "outputs": [],
   "source": [
    "image_size = (128,128) #The size to resize the images, ideally we might want to find the max or average size and scale the images considering its proportion to avoid too much cropping/resizing.\n",
    "#Keep in mind image size needs to be used for the creation of the model too, since the input shape needs it.\n",
    "number_of_channels = 3 #Used for the input shape of the model exclusively\n",
    "batch_size = 64 # The batach size to use for training, it could be tuned.\n",
    "\n",
    "def create_dataset(dataset_path) ->tf.data.Dataset:\n",
    "    seed = 1 #fix the seed for shuffling to be able to compare between models.\n",
    "\n",
    "    dataset = keras.utils.image_dataset_from_directory(\n",
    "        dataset_path,\n",
    "        labels='inferred', #Infer labels from directory\n",
    "        label_mode=\"int\", #use categorical to One hot encode labels which is more reasonable.\n",
    "        color_mode='rgb', #if not so already, images will be converted to have 3 channels.\n",
    "        batch_size=batch_size,\n",
    "        image_size=image_size, #Resize images to 128x128\n",
    "        shuffle= True,\n",
    "        seed = seed,\n",
    "        crop_to_aspect_ratio=True, #If the image has a different aspect ratio crop instead of distorting the image. I think fill might be an option\n",
    "        #validation_split=0.2, #How much to save for validation\n",
    "        #subset=\"training\", #What fraction of the dataset to return.\n",
    "    )\n",
    "\n",
    "    return dataset.cache().prefetch(tf.data.AUTOTUNE), dataset.class_names\n",
    "\n",
    "def save_class_names(class_names, filename):\n",
    "    with open(filename, 'w') as file:\n",
    "        json.dump(class_names, file)"
   ]
  },
  {
   "cell_type": "code",
   "execution_count": 94,
   "metadata": {},
   "outputs": [
    {
     "name": "stdout",
     "output_type": "stream",
     "text": [
      "Found 6231 files belonging to 24 classes.\n",
      "Found 3110 files belonging to 24 classes.\n",
      "Found 3114 files belonging to 24 classes.\n"
     ]
    }
   ],
   "source": [
    "dataset_images_base_path = './dataset/fruits-360-original-size/fruits-360-original-size/'\n",
    "trainset, class_names = create_dataset(dataset_images_base_path+'Training')\n",
    "testset, _ = create_dataset(dataset_images_base_path+'Test')\n",
    "valset, _  = create_dataset(dataset_images_base_path+'Validation')"
   ]
  },
  {
   "cell_type": "code",
   "execution_count": 97,
   "metadata": {},
   "outputs": [],
   "source": [
    "save_class_names(class_names, 'class-labels.json')"
   ]
  },
  {
   "cell_type": "code",
   "execution_count": 63,
   "metadata": {},
   "outputs": [],
   "source": [
    "num_classes = 24\n",
    "input_shape = (image_size[0], image_size[1], number_of_channels)\n",
    "def create_data_augmentation_layer():\n",
    "    return keras.Sequential(\n",
    "    [\n",
    "        layers.RandomFlip(\"horizontal\"),\n",
    "        layers.RandomRotation(0.2),\n",
    "        layers.RandomZoom(0.2),\n",
    "        layers.RandomContrast(0.2),\n",
    "        layers.RandomHeight(0.2),\n",
    "        layers.RandomWidth(0.2),\n",
    "        layers.Resizing(image_size[0], image_size[1]) # Ensure the images have the same shape after augmentation\n",
    "    ]\n",
    ")\n",
    "\n",
    "def create_model():\n",
    "    model = tf.keras.Sequential([\n",
    "    #create_data_augmentation_layer(),\n",
    "    layers.Input(shape=input_shape), # Add Input layer\n",
    "    layers.Rescaling(1./255),#,input_shape=input_shape),\n",
    "    layers.Conv2D(16, 3, padding='same', activation='relu'),\n",
    "    layers.MaxPooling2D(),\n",
    "    layers.Conv2D(32, 3, padding='same', activation='relu'),\n",
    "    layers.MaxPooling2D(),\n",
    "    layers.Conv2D(64, 3, padding='same', activation='relu'),\n",
    "    layers.MaxPooling2D(),\n",
    "    layers.Conv2D(128, 3, padding='same', activation='relu'),\n",
    "    layers.MaxPooling2D(),\n",
    "    layers.Dropout(0.4),\n",
    "    layers.Flatten(),\n",
    "    layers.Dense(128, activation='relu'),\n",
    "    layers.Dense(num_classes, activation='softmax')\n",
    "    ])\n",
    "\n",
    "    model.compile(\n",
    "        optimizer = keras.optimizers.Adam(learning_rate=0.01),\n",
    "        loss = keras.losses.SparseCategoricalCrossentropy(), #Is this the right loss ? What would be the right one for one hot encoding which suits this case better?\n",
    "        #metrics=METRICS\n",
    "        metrics=[\"accuracy\"]\n",
    "    )\n",
    "    return model\n",
    "\n",
    "def create_model_and_fit():\n",
    "        callbacks = [\n",
    "            keras.callbacks.EarlyStopping(patience=5, monitor='val_loss', restore_best_weights=True, min_delta=1e-4), #Might wanna tweak min_delta, and min_lr \n",
    "            keras.callbacks.ReduceLROnPlateau(monitor='val_loss', min_lr=1e-5, patience=2, mode='min', verbose=1, factor=0.1, min_delta=1e-4), #Doesnt make too much sence that lr can drop so much below min_delta imo.\n",
    "            keras.callbacks.ModelCheckpoint(monitor='val_loss', filepath='./best_model.h5', save_best_only=True)\n",
    "        ]\n",
    "        model = create_model()\n",
    "\n",
    "        history = model.fit(trainset, epochs=50, batch_size=64,\n",
    "                            callbacks=callbacks, validation_data=valset)\n",
    "        \n",
    "        return model, history"
   ]
  },
  {
   "cell_type": "code",
   "execution_count": 64,
   "metadata": {},
   "outputs": [
    {
     "name": "stdout",
     "output_type": "stream",
     "text": [
      "Epoch 1/100\n",
      "98/98 [==============================] - ETA: 0s - loss: 2.0546 - accuracy: 0.3555"
     ]
    },
    {
     "name": "stderr",
     "output_type": "stream",
     "text": [
      "c:\\Users\\uriel.salvio\\Documents\\Python Projects\\FruitClassification\\.venv\\Lib\\site-packages\\keras\\src\\engine\\training.py:3103: UserWarning: You are saving your model as an HDF5 file via `model.save()`. This file format is considered legacy. We recommend using instead the native Keras format, e.g. `model.save('my_model.keras')`.\n",
      "  saving_api.save_model(\n"
     ]
    },
    {
     "name": "stdout",
     "output_type": "stream",
     "text": [
      "98/98 [==============================] - 106s 989ms/step - loss: 2.0546 - accuracy: 0.3555 - val_loss: 0.4470 - val_accuracy: 0.8147 - lr: 0.0100\n",
      "Epoch 2/100\n",
      "98/98 [==============================] - 54s 549ms/step - loss: 0.3748 - accuracy: 0.8623 - val_loss: 0.1530 - val_accuracy: 0.9557 - lr: 0.0100\n",
      "Epoch 3/100\n",
      "98/98 [==============================] - 57s 579ms/step - loss: 0.1408 - accuracy: 0.9493 - val_loss: 0.0775 - val_accuracy: 0.9740 - lr: 0.0100\n",
      "Epoch 4/100\n",
      "98/98 [==============================] - 54s 550ms/step - loss: 0.1091 - accuracy: 0.9621 - val_loss: 0.0753 - val_accuracy: 0.9714 - lr: 0.0100\n",
      "Epoch 5/100\n",
      "98/98 [==============================] - 65s 669ms/step - loss: 0.1166 - accuracy: 0.9618 - val_loss: 0.0605 - val_accuracy: 0.9855 - lr: 0.0100\n",
      "Epoch 6/100\n",
      "98/98 [==============================] - 67s 685ms/step - loss: 0.0679 - accuracy: 0.9764 - val_loss: 0.0474 - val_accuracy: 0.9859 - lr: 0.0100\n",
      "Epoch 7/100\n",
      "98/98 [==============================] - 60s 608ms/step - loss: 0.0791 - accuracy: 0.9745 - val_loss: 0.0137 - val_accuracy: 0.9987 - lr: 0.0100\n",
      "Epoch 8/100\n",
      "98/98 [==============================] - 65s 660ms/step - loss: 0.0688 - accuracy: 0.9779 - val_loss: 0.0091 - val_accuracy: 0.9981 - lr: 0.0100\n",
      "Epoch 9/100\n",
      "98/98 [==============================] - 61s 621ms/step - loss: 0.0820 - accuracy: 0.9745 - val_loss: 0.0123 - val_accuracy: 0.9965 - lr: 0.0100\n",
      "Epoch 10/100\n",
      "98/98 [==============================] - ETA: 0s - loss: 0.0442 - accuracy: 0.9867\n",
      "Epoch 10: ReduceLROnPlateau reducing learning rate to 0.0009999999776482583.\n",
      "98/98 [==============================] - 56s 568ms/step - loss: 0.0442 - accuracy: 0.9867 - val_loss: 0.0241 - val_accuracy: 0.9923 - lr: 0.0100\n",
      "Epoch 11/100\n",
      "98/98 [==============================] - 62s 632ms/step - loss: 0.0188 - accuracy: 0.9939 - val_loss: 6.2555e-04 - val_accuracy: 1.0000 - lr: 1.0000e-03\n",
      "Epoch 12/100\n",
      "98/98 [==============================] - 53s 538ms/step - loss: 0.0083 - accuracy: 0.9979 - val_loss: 3.0443e-04 - val_accuracy: 1.0000 - lr: 1.0000e-03\n",
      "Epoch 13/100\n",
      "98/98 [==============================] - 57s 586ms/step - loss: 0.0044 - accuracy: 0.9987 - val_loss: 2.0276e-04 - val_accuracy: 1.0000 - lr: 1.0000e-03\n",
      "Epoch 14/100\n",
      "98/98 [==============================] - 80s 824ms/step - loss: 0.0061 - accuracy: 0.9984 - val_loss: 2.4233e-04 - val_accuracy: 1.0000 - lr: 1.0000e-03\n",
      "Epoch 15/100\n",
      "98/98 [==============================] - ETA: 0s - loss: 0.0050 - accuracy: 0.9979\n",
      "Epoch 15: ReduceLROnPlateau reducing learning rate to 9.999999310821295e-05.\n",
      "98/98 [==============================] - 57s 576ms/step - loss: 0.0050 - accuracy: 0.9979 - val_loss: 1.4247e-04 - val_accuracy: 1.0000 - lr: 1.0000e-03\n",
      "Epoch 16/100\n",
      "98/98 [==============================] - 58s 595ms/step - loss: 0.0065 - accuracy: 0.9979 - val_loss: 1.3198e-04 - val_accuracy: 1.0000 - lr: 1.0000e-04\n",
      "Epoch 17/100\n",
      "98/98 [==============================] - ETA: 0s - loss: 0.0033 - accuracy: 0.9990\n",
      "Epoch 17: ReduceLROnPlateau reducing learning rate to 9.999999019782991e-06.\n",
      "98/98 [==============================] - 66s 672ms/step - loss: 0.0033 - accuracy: 0.9990 - val_loss: 1.1264e-04 - val_accuracy: 1.0000 - lr: 1.0000e-04\n",
      "Epoch 18/100\n",
      "98/98 [==============================] - 58s 590ms/step - loss: 0.0030 - accuracy: 0.9989 - val_loss: 1.1151e-04 - val_accuracy: 1.0000 - lr: 1.0000e-05\n",
      "Epoch 19/100\n",
      "98/98 [==============================] - ETA: 0s - loss: 0.0031 - accuracy: 0.9995\n",
      "Epoch 19: ReduceLROnPlateau reducing learning rate to 9.99999883788405e-07.\n",
      "98/98 [==============================] - 73s 748ms/step - loss: 0.0031 - accuracy: 0.9995 - val_loss: 1.0964e-04 - val_accuracy: 1.0000 - lr: 1.0000e-05\n",
      "Epoch 20/100\n",
      "98/98 [==============================] - 62s 632ms/step - loss: 0.0034 - accuracy: 0.9994 - val_loss: 1.0953e-04 - val_accuracy: 1.0000 - lr: 1.0000e-06\n",
      "Epoch 21/100\n",
      "98/98 [==============================] - ETA: 0s - loss: 0.0019 - accuracy: 0.9997\n",
      "Epoch 21: ReduceLROnPlateau reducing learning rate to 1e-07.\n",
      "98/98 [==============================] - 56s 572ms/step - loss: 0.0019 - accuracy: 0.9997 - val_loss: 1.0946e-04 - val_accuracy: 1.0000 - lr: 1.0000e-06\n",
      "Epoch 22/100\n",
      "98/98 [==============================] - 61s 621ms/step - loss: 0.0024 - accuracy: 0.9997 - val_loss: 1.0944e-04 - val_accuracy: 1.0000 - lr: 1.0000e-07\n",
      "Epoch 23/100\n",
      "98/98 [==============================] - 61s 622ms/step - loss: 0.0038 - accuracy: 0.9984 - val_loss: 1.0942e-04 - val_accuracy: 1.0000 - lr: 1.0000e-07\n",
      "Epoch 24/100\n",
      "98/98 [==============================] - 72s 729ms/step - loss: 0.0040 - accuracy: 0.9989 - val_loss: 1.0939e-04 - val_accuracy: 1.0000 - lr: 1.0000e-07\n",
      "Epoch 25/100\n",
      "98/98 [==============================] - 59s 608ms/step - loss: 0.0025 - accuracy: 0.9989 - val_loss: 1.0936e-04 - val_accuracy: 1.0000 - lr: 1.0000e-07\n",
      "Epoch 26/100\n",
      "98/98 [==============================] - 56s 568ms/step - loss: 0.0028 - accuracy: 0.9990 - val_loss: 1.0935e-04 - val_accuracy: 1.0000 - lr: 1.0000e-07\n",
      "Epoch 27/100\n",
      "98/98 [==============================] - 62s 633ms/step - loss: 0.0044 - accuracy: 0.9986 - val_loss: 1.0933e-04 - val_accuracy: 1.0000 - lr: 1.0000e-07\n",
      "Epoch 28/100\n",
      "98/98 [==============================] - 59s 608ms/step - loss: 0.0031 - accuracy: 0.9995 - val_loss: 1.0932e-04 - val_accuracy: 1.0000 - lr: 1.0000e-07\n",
      "Epoch 29/100\n",
      "98/98 [==============================] - 69s 702ms/step - loss: 0.0023 - accuracy: 0.9992 - val_loss: 1.0931e-04 - val_accuracy: 1.0000 - lr: 1.0000e-07\n",
      "Epoch 30/100\n",
      "98/98 [==============================] - 66s 675ms/step - loss: 0.0041 - accuracy: 0.9984 - val_loss: 1.0928e-04 - val_accuracy: 1.0000 - lr: 1.0000e-07\n",
      "Epoch 31/100\n",
      "98/98 [==============================] - 53s 538ms/step - loss: 0.0040 - accuracy: 0.9987 - val_loss: 1.0925e-04 - val_accuracy: 1.0000 - lr: 1.0000e-07\n",
      "Epoch 32/100\n",
      "98/98 [==============================] - 55s 557ms/step - loss: 0.0038 - accuracy: 0.9990 - val_loss: 1.0922e-04 - val_accuracy: 1.0000 - lr: 1.0000e-07\n",
      "Epoch 33/100\n",
      "98/98 [==============================] - 59s 599ms/step - loss: 0.0033 - accuracy: 0.9989 - val_loss: 1.0921e-04 - val_accuracy: 1.0000 - lr: 1.0000e-07\n",
      "Epoch 34/100\n",
      "98/98 [==============================] - 64s 653ms/step - loss: 0.0038 - accuracy: 0.9994 - val_loss: 1.0917e-04 - val_accuracy: 1.0000 - lr: 1.0000e-07\n",
      "Epoch 35/100\n",
      "98/98 [==============================] - 55s 554ms/step - loss: 0.0041 - accuracy: 0.9986 - val_loss: 1.0912e-04 - val_accuracy: 1.0000 - lr: 1.0000e-07\n",
      "Epoch 36/100\n",
      "98/98 [==============================] - 67s 690ms/step - loss: 0.0031 - accuracy: 0.9990 - val_loss: 1.0911e-04 - val_accuracy: 1.0000 - lr: 1.0000e-07\n",
      "Epoch 37/100\n",
      "98/98 [==============================] - 69s 705ms/step - loss: 0.0030 - accuracy: 0.9992 - val_loss: 1.0910e-04 - val_accuracy: 1.0000 - lr: 1.0000e-07\n",
      "Epoch 38/100\n",
      "98/98 [==============================] - 57s 582ms/step - loss: 0.0039 - accuracy: 0.9986 - val_loss: 1.0907e-04 - val_accuracy: 1.0000 - lr: 1.0000e-07\n",
      "Epoch 39/100\n",
      "98/98 [==============================] - 57s 575ms/step - loss: 0.0015 - accuracy: 0.9998 - val_loss: 1.0905e-04 - val_accuracy: 1.0000 - lr: 1.0000e-07\n",
      "Epoch 40/100\n",
      "98/98 [==============================] - 56s 577ms/step - loss: 0.0039 - accuracy: 0.9989 - val_loss: 1.0902e-04 - val_accuracy: 1.0000 - lr: 1.0000e-07\n",
      "Epoch 41/100\n",
      "98/98 [==============================] - 57s 586ms/step - loss: 0.0044 - accuracy: 0.9990 - val_loss: 1.0897e-04 - val_accuracy: 1.0000 - lr: 1.0000e-07\n",
      "Epoch 42/100\n",
      "98/98 [==============================] - 62s 631ms/step - loss: 0.0027 - accuracy: 0.9994 - val_loss: 1.0895e-04 - val_accuracy: 1.0000 - lr: 1.0000e-07\n",
      "Epoch 43/100\n",
      "98/98 [==============================] - 66s 675ms/step - loss: 0.0029 - accuracy: 0.9992 - val_loss: 1.0893e-04 - val_accuracy: 1.0000 - lr: 1.0000e-07\n",
      "Epoch 44/100\n",
      "98/98 [==============================] - 65s 666ms/step - loss: 0.0034 - accuracy: 0.9986 - val_loss: 1.0886e-04 - val_accuracy: 1.0000 - lr: 1.0000e-07\n",
      "Epoch 45/100\n",
      "98/98 [==============================] - 58s 592ms/step - loss: 0.0019 - accuracy: 0.9998 - val_loss: 1.0885e-04 - val_accuracy: 1.0000 - lr: 1.0000e-07\n",
      "Epoch 46/100\n",
      " 2/98 [..............................] - ETA: 44s - loss: 0.0019 - accuracy: 1.0000"
     ]
    },
    {
     "ename": "KeyboardInterrupt",
     "evalue": "",
     "output_type": "error",
     "traceback": [
      "\u001b[1;31m---------------------------------------------------------------------------\u001b[0m",
      "\u001b[1;31mKeyboardInterrupt\u001b[0m                         Traceback (most recent call last)",
      "\u001b[1;32mc:\\Users\\uriel.salvio\\Documents\\Python Projects\\FruitClassification\\CreateModel.ipynb Cell 8\u001b[0m line \u001b[0;36m1\n\u001b[1;32m----> <a href='vscode-notebook-cell:/c%3A/Users/uriel.salvio/Documents/Python%20Projects/FruitClassification/CreateModel.ipynb#X20sZmlsZQ%3D%3D?line=0'>1</a>\u001b[0m model, history \u001b[39m=\u001b[39m create_model_and_fit()\n",
      "\u001b[1;32mc:\\Users\\uriel.salvio\\Documents\\Python Projects\\FruitClassification\\CreateModel.ipynb Cell 8\u001b[0m line \u001b[0;36m5\n\u001b[0;32m     <a href='vscode-notebook-cell:/c%3A/Users/uriel.salvio/Documents/Python%20Projects/FruitClassification/CreateModel.ipynb#X20sZmlsZQ%3D%3D?line=43'>44</a>\u001b[0m callbacks \u001b[39m=\u001b[39m [\n\u001b[0;32m     <a href='vscode-notebook-cell:/c%3A/Users/uriel.salvio/Documents/Python%20Projects/FruitClassification/CreateModel.ipynb#X20sZmlsZQ%3D%3D?line=44'>45</a>\u001b[0m     keras\u001b[39m.\u001b[39mcallbacks\u001b[39m.\u001b[39mEarlyStopping(patience\u001b[39m=\u001b[39m\u001b[39m5\u001b[39m, monitor\u001b[39m=\u001b[39m\u001b[39m'\u001b[39m\u001b[39mval_loss\u001b[39m\u001b[39m'\u001b[39m, restore_best_weights\u001b[39m=\u001b[39m\u001b[39mTrue\u001b[39;00m),\n\u001b[0;32m     <a href='vscode-notebook-cell:/c%3A/Users/uriel.salvio/Documents/Python%20Projects/FruitClassification/CreateModel.ipynb#X20sZmlsZQ%3D%3D?line=45'>46</a>\u001b[0m     keras\u001b[39m.\u001b[39mcallbacks\u001b[39m.\u001b[39mReduceLROnPlateau(monitor\u001b[39m=\u001b[39m\u001b[39m'\u001b[39m\u001b[39mval_loss\u001b[39m\u001b[39m'\u001b[39m, min_lr\u001b[39m=\u001b[39m\u001b[39m1e-7\u001b[39m, patience\u001b[39m=\u001b[39m\u001b[39m2\u001b[39m, mode\u001b[39m=\u001b[39m\u001b[39m'\u001b[39m\u001b[39mmin\u001b[39m\u001b[39m'\u001b[39m, verbose\u001b[39m=\u001b[39m\u001b[39m1\u001b[39m, factor\u001b[39m=\u001b[39m\u001b[39m0.1\u001b[39m),\n\u001b[0;32m     <a href='vscode-notebook-cell:/c%3A/Users/uriel.salvio/Documents/Python%20Projects/FruitClassification/CreateModel.ipynb#X20sZmlsZQ%3D%3D?line=46'>47</a>\u001b[0m     keras\u001b[39m.\u001b[39mcallbacks\u001b[39m.\u001b[39mModelCheckpoint(monitor\u001b[39m=\u001b[39m\u001b[39m'\u001b[39m\u001b[39mval_loss\u001b[39m\u001b[39m'\u001b[39m, filepath\u001b[39m=\u001b[39m\u001b[39m'\u001b[39m\u001b[39m./best_model.h5\u001b[39m\u001b[39m'\u001b[39m, save_best_only\u001b[39m=\u001b[39m\u001b[39mTrue\u001b[39;00m)\n\u001b[0;32m     <a href='vscode-notebook-cell:/c%3A/Users/uriel.salvio/Documents/Python%20Projects/FruitClassification/CreateModel.ipynb#X20sZmlsZQ%3D%3D?line=47'>48</a>\u001b[0m ]\n\u001b[0;32m     <a href='vscode-notebook-cell:/c%3A/Users/uriel.salvio/Documents/Python%20Projects/FruitClassification/CreateModel.ipynb#X20sZmlsZQ%3D%3D?line=48'>49</a>\u001b[0m model \u001b[39m=\u001b[39m create_model()\n\u001b[1;32m---> <a href='vscode-notebook-cell:/c%3A/Users/uriel.salvio/Documents/Python%20Projects/FruitClassification/CreateModel.ipynb#X20sZmlsZQ%3D%3D?line=50'>51</a>\u001b[0m history \u001b[39m=\u001b[39m model\u001b[39m.\u001b[39;49mfit(trainset, epochs\u001b[39m=\u001b[39;49m\u001b[39m100\u001b[39;49m, batch_size\u001b[39m=\u001b[39;49m\u001b[39m64\u001b[39;49m,\n\u001b[0;32m     <a href='vscode-notebook-cell:/c%3A/Users/uriel.salvio/Documents/Python%20Projects/FruitClassification/CreateModel.ipynb#X20sZmlsZQ%3D%3D?line=51'>52</a>\u001b[0m                     callbacks\u001b[39m=\u001b[39;49mcallbacks, validation_data\u001b[39m=\u001b[39;49mvalset)\n\u001b[0;32m     <a href='vscode-notebook-cell:/c%3A/Users/uriel.salvio/Documents/Python%20Projects/FruitClassification/CreateModel.ipynb#X20sZmlsZQ%3D%3D?line=53'>54</a>\u001b[0m \u001b[39mreturn\u001b[39;00m model, history\n",
      "File \u001b[1;32mc:\\Users\\uriel.salvio\\Documents\\Python Projects\\FruitClassification\\.venv\\Lib\\site-packages\\keras\\src\\utils\\traceback_utils.py:65\u001b[0m, in \u001b[0;36mfilter_traceback.<locals>.error_handler\u001b[1;34m(*args, **kwargs)\u001b[0m\n\u001b[0;32m     63\u001b[0m filtered_tb \u001b[39m=\u001b[39m \u001b[39mNone\u001b[39;00m\n\u001b[0;32m     64\u001b[0m \u001b[39mtry\u001b[39;00m:\n\u001b[1;32m---> 65\u001b[0m     \u001b[39mreturn\u001b[39;00m fn(\u001b[39m*\u001b[39;49margs, \u001b[39m*\u001b[39;49m\u001b[39m*\u001b[39;49mkwargs)\n\u001b[0;32m     66\u001b[0m \u001b[39mexcept\u001b[39;00m \u001b[39mException\u001b[39;00m \u001b[39mas\u001b[39;00m e:\n\u001b[0;32m     67\u001b[0m     filtered_tb \u001b[39m=\u001b[39m _process_traceback_frames(e\u001b[39m.\u001b[39m__traceback__)\n",
      "File \u001b[1;32mc:\\Users\\uriel.salvio\\Documents\\Python Projects\\FruitClassification\\.venv\\Lib\\site-packages\\keras\\src\\engine\\training.py:1807\u001b[0m, in \u001b[0;36mModel.fit\u001b[1;34m(self, x, y, batch_size, epochs, verbose, callbacks, validation_split, validation_data, shuffle, class_weight, sample_weight, initial_epoch, steps_per_epoch, validation_steps, validation_batch_size, validation_freq, max_queue_size, workers, use_multiprocessing)\u001b[0m\n\u001b[0;32m   1799\u001b[0m \u001b[39mwith\u001b[39;00m tf\u001b[39m.\u001b[39mprofiler\u001b[39m.\u001b[39mexperimental\u001b[39m.\u001b[39mTrace(\n\u001b[0;32m   1800\u001b[0m     \u001b[39m\"\u001b[39m\u001b[39mtrain\u001b[39m\u001b[39m\"\u001b[39m,\n\u001b[0;32m   1801\u001b[0m     epoch_num\u001b[39m=\u001b[39mepoch,\n\u001b[1;32m   (...)\u001b[0m\n\u001b[0;32m   1804\u001b[0m     _r\u001b[39m=\u001b[39m\u001b[39m1\u001b[39m,\n\u001b[0;32m   1805\u001b[0m ):\n\u001b[0;32m   1806\u001b[0m     callbacks\u001b[39m.\u001b[39mon_train_batch_begin(step)\n\u001b[1;32m-> 1807\u001b[0m     tmp_logs \u001b[39m=\u001b[39m \u001b[39mself\u001b[39;49m\u001b[39m.\u001b[39;49mtrain_function(iterator)\n\u001b[0;32m   1808\u001b[0m     \u001b[39mif\u001b[39;00m data_handler\u001b[39m.\u001b[39mshould_sync:\n\u001b[0;32m   1809\u001b[0m         context\u001b[39m.\u001b[39masync_wait()\n",
      "File \u001b[1;32mc:\\Users\\uriel.salvio\\Documents\\Python Projects\\FruitClassification\\.venv\\Lib\\site-packages\\tensorflow\\python\\util\\traceback_utils.py:150\u001b[0m, in \u001b[0;36mfilter_traceback.<locals>.error_handler\u001b[1;34m(*args, **kwargs)\u001b[0m\n\u001b[0;32m    148\u001b[0m filtered_tb \u001b[39m=\u001b[39m \u001b[39mNone\u001b[39;00m\n\u001b[0;32m    149\u001b[0m \u001b[39mtry\u001b[39;00m:\n\u001b[1;32m--> 150\u001b[0m   \u001b[39mreturn\u001b[39;00m fn(\u001b[39m*\u001b[39;49margs, \u001b[39m*\u001b[39;49m\u001b[39m*\u001b[39;49mkwargs)\n\u001b[0;32m    151\u001b[0m \u001b[39mexcept\u001b[39;00m \u001b[39mException\u001b[39;00m \u001b[39mas\u001b[39;00m e:\n\u001b[0;32m    152\u001b[0m   filtered_tb \u001b[39m=\u001b[39m _process_traceback_frames(e\u001b[39m.\u001b[39m__traceback__)\n",
      "File \u001b[1;32mc:\\Users\\uriel.salvio\\Documents\\Python Projects\\FruitClassification\\.venv\\Lib\\site-packages\\tensorflow\\python\\eager\\polymorphic_function\\polymorphic_function.py:832\u001b[0m, in \u001b[0;36mFunction.__call__\u001b[1;34m(self, *args, **kwds)\u001b[0m\n\u001b[0;32m    829\u001b[0m compiler \u001b[39m=\u001b[39m \u001b[39m\"\u001b[39m\u001b[39mxla\u001b[39m\u001b[39m\"\u001b[39m \u001b[39mif\u001b[39;00m \u001b[39mself\u001b[39m\u001b[39m.\u001b[39m_jit_compile \u001b[39melse\u001b[39;00m \u001b[39m\"\u001b[39m\u001b[39mnonXla\u001b[39m\u001b[39m\"\u001b[39m\n\u001b[0;32m    831\u001b[0m \u001b[39mwith\u001b[39;00m OptionalXlaContext(\u001b[39mself\u001b[39m\u001b[39m.\u001b[39m_jit_compile):\n\u001b[1;32m--> 832\u001b[0m   result \u001b[39m=\u001b[39m \u001b[39mself\u001b[39;49m\u001b[39m.\u001b[39;49m_call(\u001b[39m*\u001b[39;49margs, \u001b[39m*\u001b[39;49m\u001b[39m*\u001b[39;49mkwds)\n\u001b[0;32m    834\u001b[0m new_tracing_count \u001b[39m=\u001b[39m \u001b[39mself\u001b[39m\u001b[39m.\u001b[39mexperimental_get_tracing_count()\n\u001b[0;32m    835\u001b[0m without_tracing \u001b[39m=\u001b[39m (tracing_count \u001b[39m==\u001b[39m new_tracing_count)\n",
      "File \u001b[1;32mc:\\Users\\uriel.salvio\\Documents\\Python Projects\\FruitClassification\\.venv\\Lib\\site-packages\\tensorflow\\python\\eager\\polymorphic_function\\polymorphic_function.py:868\u001b[0m, in \u001b[0;36mFunction._call\u001b[1;34m(self, *args, **kwds)\u001b[0m\n\u001b[0;32m    865\u001b[0m   \u001b[39mself\u001b[39m\u001b[39m.\u001b[39m_lock\u001b[39m.\u001b[39mrelease()\n\u001b[0;32m    866\u001b[0m   \u001b[39m# In this case we have created variables on the first call, so we run the\u001b[39;00m\n\u001b[0;32m    867\u001b[0m   \u001b[39m# defunned version which is guaranteed to never create variables.\u001b[39;00m\n\u001b[1;32m--> 868\u001b[0m   \u001b[39mreturn\u001b[39;00m tracing_compilation\u001b[39m.\u001b[39;49mcall_function(\n\u001b[0;32m    869\u001b[0m       args, kwds, \u001b[39mself\u001b[39;49m\u001b[39m.\u001b[39;49m_no_variable_creation_config\n\u001b[0;32m    870\u001b[0m   )\n\u001b[0;32m    871\u001b[0m \u001b[39melif\u001b[39;00m \u001b[39mself\u001b[39m\u001b[39m.\u001b[39m_variable_creation_config \u001b[39mis\u001b[39;00m \u001b[39mnot\u001b[39;00m \u001b[39mNone\u001b[39;00m:\n\u001b[0;32m    872\u001b[0m   \u001b[39m# Release the lock early so that multiple threads can perform the call\u001b[39;00m\n\u001b[0;32m    873\u001b[0m   \u001b[39m# in parallel.\u001b[39;00m\n\u001b[0;32m    874\u001b[0m   \u001b[39mself\u001b[39m\u001b[39m.\u001b[39m_lock\u001b[39m.\u001b[39mrelease()\n",
      "File \u001b[1;32mc:\\Users\\uriel.salvio\\Documents\\Python Projects\\FruitClassification\\.venv\\Lib\\site-packages\\tensorflow\\python\\eager\\polymorphic_function\\tracing_compilation.py:139\u001b[0m, in \u001b[0;36mcall_function\u001b[1;34m(args, kwargs, tracing_options)\u001b[0m\n\u001b[0;32m    137\u001b[0m bound_args \u001b[39m=\u001b[39m function\u001b[39m.\u001b[39mfunction_type\u001b[39m.\u001b[39mbind(\u001b[39m*\u001b[39margs, \u001b[39m*\u001b[39m\u001b[39m*\u001b[39mkwargs)\n\u001b[0;32m    138\u001b[0m flat_inputs \u001b[39m=\u001b[39m function\u001b[39m.\u001b[39mfunction_type\u001b[39m.\u001b[39munpack_inputs(bound_args)\n\u001b[1;32m--> 139\u001b[0m \u001b[39mreturn\u001b[39;00m function\u001b[39m.\u001b[39;49m_call_flat(  \u001b[39m# pylint: disable=protected-access\u001b[39;49;00m\n\u001b[0;32m    140\u001b[0m     flat_inputs, captured_inputs\u001b[39m=\u001b[39;49mfunction\u001b[39m.\u001b[39;49mcaptured_inputs\n\u001b[0;32m    141\u001b[0m )\n",
      "File \u001b[1;32mc:\\Users\\uriel.salvio\\Documents\\Python Projects\\FruitClassification\\.venv\\Lib\\site-packages\\tensorflow\\python\\eager\\polymorphic_function\\concrete_function.py:1323\u001b[0m, in \u001b[0;36mConcreteFunction._call_flat\u001b[1;34m(self, tensor_inputs, captured_inputs)\u001b[0m\n\u001b[0;32m   1319\u001b[0m possible_gradient_type \u001b[39m=\u001b[39m gradients_util\u001b[39m.\u001b[39mPossibleTapeGradientTypes(args)\n\u001b[0;32m   1320\u001b[0m \u001b[39mif\u001b[39;00m (possible_gradient_type \u001b[39m==\u001b[39m gradients_util\u001b[39m.\u001b[39mPOSSIBLE_GRADIENT_TYPES_NONE\n\u001b[0;32m   1321\u001b[0m     \u001b[39mand\u001b[39;00m executing_eagerly):\n\u001b[0;32m   1322\u001b[0m   \u001b[39m# No tape is watching; skip to running the function.\u001b[39;00m\n\u001b[1;32m-> 1323\u001b[0m   \u001b[39mreturn\u001b[39;00m \u001b[39mself\u001b[39;49m\u001b[39m.\u001b[39;49m_inference_function\u001b[39m.\u001b[39;49mcall_preflattened(args)\n\u001b[0;32m   1324\u001b[0m forward_backward \u001b[39m=\u001b[39m \u001b[39mself\u001b[39m\u001b[39m.\u001b[39m_select_forward_and_backward_functions(\n\u001b[0;32m   1325\u001b[0m     args,\n\u001b[0;32m   1326\u001b[0m     possible_gradient_type,\n\u001b[0;32m   1327\u001b[0m     executing_eagerly)\n\u001b[0;32m   1328\u001b[0m forward_function, args_with_tangents \u001b[39m=\u001b[39m forward_backward\u001b[39m.\u001b[39mforward()\n",
      "File \u001b[1;32mc:\\Users\\uriel.salvio\\Documents\\Python Projects\\FruitClassification\\.venv\\Lib\\site-packages\\tensorflow\\python\\eager\\polymorphic_function\\atomic_function.py:216\u001b[0m, in \u001b[0;36mAtomicFunction.call_preflattened\u001b[1;34m(self, args)\u001b[0m\n\u001b[0;32m    214\u001b[0m \u001b[39mdef\u001b[39;00m \u001b[39mcall_preflattened\u001b[39m(\u001b[39mself\u001b[39m, args: Sequence[core\u001b[39m.\u001b[39mTensor]) \u001b[39m-\u001b[39m\u001b[39m>\u001b[39m Any:\n\u001b[0;32m    215\u001b[0m \u001b[39m  \u001b[39m\u001b[39m\"\"\"Calls with flattened tensor inputs and returns the structured output.\"\"\"\u001b[39;00m\n\u001b[1;32m--> 216\u001b[0m   flat_outputs \u001b[39m=\u001b[39m \u001b[39mself\u001b[39;49m\u001b[39m.\u001b[39;49mcall_flat(\u001b[39m*\u001b[39;49margs)\n\u001b[0;32m    217\u001b[0m   \u001b[39mreturn\u001b[39;00m \u001b[39mself\u001b[39m\u001b[39m.\u001b[39mfunction_type\u001b[39m.\u001b[39mpack_output(flat_outputs)\n",
      "File \u001b[1;32mc:\\Users\\uriel.salvio\\Documents\\Python Projects\\FruitClassification\\.venv\\Lib\\site-packages\\tensorflow\\python\\eager\\polymorphic_function\\atomic_function.py:251\u001b[0m, in \u001b[0;36mAtomicFunction.call_flat\u001b[1;34m(self, *args)\u001b[0m\n\u001b[0;32m    249\u001b[0m \u001b[39mwith\u001b[39;00m record\u001b[39m.\u001b[39mstop_recording():\n\u001b[0;32m    250\u001b[0m   \u001b[39mif\u001b[39;00m \u001b[39mself\u001b[39m\u001b[39m.\u001b[39m_bound_context\u001b[39m.\u001b[39mexecuting_eagerly():\n\u001b[1;32m--> 251\u001b[0m     outputs \u001b[39m=\u001b[39m \u001b[39mself\u001b[39;49m\u001b[39m.\u001b[39;49m_bound_context\u001b[39m.\u001b[39;49mcall_function(\n\u001b[0;32m    252\u001b[0m         \u001b[39mself\u001b[39;49m\u001b[39m.\u001b[39;49mname,\n\u001b[0;32m    253\u001b[0m         \u001b[39mlist\u001b[39;49m(args),\n\u001b[0;32m    254\u001b[0m         \u001b[39mlen\u001b[39;49m(\u001b[39mself\u001b[39;49m\u001b[39m.\u001b[39;49mfunction_type\u001b[39m.\u001b[39;49mflat_outputs),\n\u001b[0;32m    255\u001b[0m     )\n\u001b[0;32m    256\u001b[0m   \u001b[39melse\u001b[39;00m:\n\u001b[0;32m    257\u001b[0m     outputs \u001b[39m=\u001b[39m make_call_op_in_graph(\n\u001b[0;32m    258\u001b[0m         \u001b[39mself\u001b[39m,\n\u001b[0;32m    259\u001b[0m         \u001b[39mlist\u001b[39m(args),\n\u001b[0;32m    260\u001b[0m         \u001b[39mself\u001b[39m\u001b[39m.\u001b[39m_bound_context\u001b[39m.\u001b[39mfunction_call_options\u001b[39m.\u001b[39mas_attrs(),\n\u001b[0;32m    261\u001b[0m     )\n",
      "File \u001b[1;32mc:\\Users\\uriel.salvio\\Documents\\Python Projects\\FruitClassification\\.venv\\Lib\\site-packages\\tensorflow\\python\\eager\\context.py:1486\u001b[0m, in \u001b[0;36mContext.call_function\u001b[1;34m(self, name, tensor_inputs, num_outputs)\u001b[0m\n\u001b[0;32m   1484\u001b[0m cancellation_context \u001b[39m=\u001b[39m cancellation\u001b[39m.\u001b[39mcontext()\n\u001b[0;32m   1485\u001b[0m \u001b[39mif\u001b[39;00m cancellation_context \u001b[39mis\u001b[39;00m \u001b[39mNone\u001b[39;00m:\n\u001b[1;32m-> 1486\u001b[0m   outputs \u001b[39m=\u001b[39m execute\u001b[39m.\u001b[39;49mexecute(\n\u001b[0;32m   1487\u001b[0m       name\u001b[39m.\u001b[39;49mdecode(\u001b[39m\"\u001b[39;49m\u001b[39mutf-8\u001b[39;49m\u001b[39m\"\u001b[39;49m),\n\u001b[0;32m   1488\u001b[0m       num_outputs\u001b[39m=\u001b[39;49mnum_outputs,\n\u001b[0;32m   1489\u001b[0m       inputs\u001b[39m=\u001b[39;49mtensor_inputs,\n\u001b[0;32m   1490\u001b[0m       attrs\u001b[39m=\u001b[39;49mattrs,\n\u001b[0;32m   1491\u001b[0m       ctx\u001b[39m=\u001b[39;49m\u001b[39mself\u001b[39;49m,\n\u001b[0;32m   1492\u001b[0m   )\n\u001b[0;32m   1493\u001b[0m \u001b[39melse\u001b[39;00m:\n\u001b[0;32m   1494\u001b[0m   outputs \u001b[39m=\u001b[39m execute\u001b[39m.\u001b[39mexecute_with_cancellation(\n\u001b[0;32m   1495\u001b[0m       name\u001b[39m.\u001b[39mdecode(\u001b[39m\"\u001b[39m\u001b[39mutf-8\u001b[39m\u001b[39m\"\u001b[39m),\n\u001b[0;32m   1496\u001b[0m       num_outputs\u001b[39m=\u001b[39mnum_outputs,\n\u001b[1;32m   (...)\u001b[0m\n\u001b[0;32m   1500\u001b[0m       cancellation_manager\u001b[39m=\u001b[39mcancellation_context,\n\u001b[0;32m   1501\u001b[0m   )\n",
      "File \u001b[1;32mc:\\Users\\uriel.salvio\\Documents\\Python Projects\\FruitClassification\\.venv\\Lib\\site-packages\\tensorflow\\python\\eager\\execute.py:53\u001b[0m, in \u001b[0;36mquick_execute\u001b[1;34m(op_name, num_outputs, inputs, attrs, ctx, name)\u001b[0m\n\u001b[0;32m     51\u001b[0m \u001b[39mtry\u001b[39;00m:\n\u001b[0;32m     52\u001b[0m   ctx\u001b[39m.\u001b[39mensure_initialized()\n\u001b[1;32m---> 53\u001b[0m   tensors \u001b[39m=\u001b[39m pywrap_tfe\u001b[39m.\u001b[39;49mTFE_Py_Execute(ctx\u001b[39m.\u001b[39;49m_handle, device_name, op_name,\n\u001b[0;32m     54\u001b[0m                                       inputs, attrs, num_outputs)\n\u001b[0;32m     55\u001b[0m \u001b[39mexcept\u001b[39;00m core\u001b[39m.\u001b[39m_NotOkStatusException \u001b[39mas\u001b[39;00m e:\n\u001b[0;32m     56\u001b[0m   \u001b[39mif\u001b[39;00m name \u001b[39mis\u001b[39;00m \u001b[39mnot\u001b[39;00m \u001b[39mNone\u001b[39;00m:\n",
      "\u001b[1;31mKeyboardInterrupt\u001b[0m: "
     ]
    }
   ],
   "source": [
    "model, history = create_model_and_fit()"
   ]
  },
  {
   "cell_type": "code",
   "execution_count": 88,
   "metadata": {},
   "outputs": [
    {
     "name": "stdout",
     "output_type": "stream",
     "text": [
      "49/49 [==============================] - 10s 191ms/step - loss: 9.2845e-05 - accuracy: 1.0000\n",
      "Loss: 9.284500265493989e-05, Accuracy: 1.0\n"
     ]
    }
   ],
   "source": [
    "model = tf.keras.models.load_model('./best_model.h5')\n",
    "# Evaluate the model\n",
    "loss, accuracy = model.evaluate(testset)\n",
    "print(f'Loss: {loss}, Accuracy: {accuracy}')\n",
    "\n",
    "#To be able to examine the cause of problems youd do this instead.\n",
    "#predictions = np.array([])\n",
    "#labels =  np.array([])\n",
    "#for x, y in testData:\n",
    "#  predictions = np.concatenate([predictions, model.predict_classes(x)])\n",
    "#  labels = np.concatenate([labels, np.argmax(y.numpy(), axis=-1)])\n",
    "#might wanna get the text labels and predictions too here.\n",
    "\n",
    "#tf.math.confusion_matrix(labels=labels, predictions=predictions).numpy()\n"
   ]
  },
  {
   "cell_type": "code",
   "execution_count": null,
   "metadata": {},
   "outputs": [],
   "source": []
  }
 ],
 "metadata": {
  "kernelspec": {
   "display_name": ".venv",
   "language": "python",
   "name": "python3"
  },
  "language_info": {
   "codemirror_mode": {
    "name": "ipython",
    "version": 3
   },
   "file_extension": ".py",
   "mimetype": "text/x-python",
   "name": "python",
   "nbconvert_exporter": "python",
   "pygments_lexer": "ipython3",
   "version": "3.11.7"
  }
 },
 "nbformat": 4,
 "nbformat_minor": 2
}
